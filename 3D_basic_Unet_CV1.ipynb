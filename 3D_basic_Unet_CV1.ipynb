{
 "cells": [
  {
   "cell_type": "code",
   "execution_count": 1,
   "metadata": {
    "ExecuteTime": {
     "end_time": "2022-12-15T01:50:43.520564Z",
     "start_time": "2022-12-15T01:50:43.512761Z"
    }
   },
   "outputs": [
    {
     "data": {
      "text/plain": [
       "'/home/gil/gcubme_ai2/Workspace/JH_Lee/juhui_pancreas/head_op/isotropic_voxel_recon/05_DL_model/01_basic/CV1'"
      ]
     },
     "execution_count": 1,
     "metadata": {},
     "output_type": "execute_result"
    }
   ],
   "source": [
    "pwd"
   ]
  },
  {
   "cell_type": "code",
   "execution_count": 2,
   "metadata": {
    "ExecuteTime": {
     "end_time": "2022-12-15T01:50:45.351185Z",
     "start_time": "2022-12-15T01:50:45.347505Z"
    }
   },
   "outputs": [],
   "source": [
    "import os\n",
    "os.environ[\"CUDA_DEVICE_ORDER\"]=\"PCI_BUS_ID\"   \n",
    "os.environ[\"CUDA_VISIBLE_DEVICES\"]=\"1\"\n",
    "#os.environ['TF_FORCE_GPU_ALLOW_GROWTH'] = 'true'"
   ]
  },
  {
   "cell_type": "code",
   "execution_count": 3,
   "metadata": {
    "ExecuteTime": {
     "end_time": "2022-12-15T01:50:49.592758Z",
     "start_time": "2022-12-15T01:50:47.168607Z"
    }
   },
   "outputs": [
    {
     "name": "stderr",
     "output_type": "stream",
     "text": [
      "/home/gil/anaconda3/envs/jjj/lib/python3.6/site-packages/tensorflow/python/framework/dtypes.py:516: FutureWarning: Passing (type, 1) or '1type' as a synonym of type is deprecated; in a future version of numpy, it will be understood as (type, (1,)) / '(1,)type'.\n",
      "  _np_qint8 = np.dtype([(\"qint8\", np.int8, 1)])\n",
      "/home/gil/anaconda3/envs/jjj/lib/python3.6/site-packages/tensorflow/python/framework/dtypes.py:517: FutureWarning: Passing (type, 1) or '1type' as a synonym of type is deprecated; in a future version of numpy, it will be understood as (type, (1,)) / '(1,)type'.\n",
      "  _np_quint8 = np.dtype([(\"quint8\", np.uint8, 1)])\n",
      "/home/gil/anaconda3/envs/jjj/lib/python3.6/site-packages/tensorflow/python/framework/dtypes.py:518: FutureWarning: Passing (type, 1) or '1type' as a synonym of type is deprecated; in a future version of numpy, it will be understood as (type, (1,)) / '(1,)type'.\n",
      "  _np_qint16 = np.dtype([(\"qint16\", np.int16, 1)])\n",
      "/home/gil/anaconda3/envs/jjj/lib/python3.6/site-packages/tensorflow/python/framework/dtypes.py:519: FutureWarning: Passing (type, 1) or '1type' as a synonym of type is deprecated; in a future version of numpy, it will be understood as (type, (1,)) / '(1,)type'.\n",
      "  _np_quint16 = np.dtype([(\"quint16\", np.uint16, 1)])\n",
      "/home/gil/anaconda3/envs/jjj/lib/python3.6/site-packages/tensorflow/python/framework/dtypes.py:520: FutureWarning: Passing (type, 1) or '1type' as a synonym of type is deprecated; in a future version of numpy, it will be understood as (type, (1,)) / '(1,)type'.\n",
      "  _np_qint32 = np.dtype([(\"qint32\", np.int32, 1)])\n",
      "/home/gil/anaconda3/envs/jjj/lib/python3.6/site-packages/tensorflow/python/framework/dtypes.py:525: FutureWarning: Passing (type, 1) or '1type' as a synonym of type is deprecated; in a future version of numpy, it will be understood as (type, (1,)) / '(1,)type'.\n",
      "  np_resource = np.dtype([(\"resource\", np.ubyte, 1)])\n",
      "/home/gil/anaconda3/envs/jjj/lib/python3.6/site-packages/tensorboard/compat/tensorflow_stub/dtypes.py:541: FutureWarning: Passing (type, 1) or '1type' as a synonym of type is deprecated; in a future version of numpy, it will be understood as (type, (1,)) / '(1,)type'.\n",
      "  _np_qint8 = np.dtype([(\"qint8\", np.int8, 1)])\n",
      "/home/gil/anaconda3/envs/jjj/lib/python3.6/site-packages/tensorboard/compat/tensorflow_stub/dtypes.py:542: FutureWarning: Passing (type, 1) or '1type' as a synonym of type is deprecated; in a future version of numpy, it will be understood as (type, (1,)) / '(1,)type'.\n",
      "  _np_quint8 = np.dtype([(\"quint8\", np.uint8, 1)])\n",
      "/home/gil/anaconda3/envs/jjj/lib/python3.6/site-packages/tensorboard/compat/tensorflow_stub/dtypes.py:543: FutureWarning: Passing (type, 1) or '1type' as a synonym of type is deprecated; in a future version of numpy, it will be understood as (type, (1,)) / '(1,)type'.\n",
      "  _np_qint16 = np.dtype([(\"qint16\", np.int16, 1)])\n",
      "/home/gil/anaconda3/envs/jjj/lib/python3.6/site-packages/tensorboard/compat/tensorflow_stub/dtypes.py:544: FutureWarning: Passing (type, 1) or '1type' as a synonym of type is deprecated; in a future version of numpy, it will be understood as (type, (1,)) / '(1,)type'.\n",
      "  _np_quint16 = np.dtype([(\"quint16\", np.uint16, 1)])\n",
      "/home/gil/anaconda3/envs/jjj/lib/python3.6/site-packages/tensorboard/compat/tensorflow_stub/dtypes.py:545: FutureWarning: Passing (type, 1) or '1type' as a synonym of type is deprecated; in a future version of numpy, it will be understood as (type, (1,)) / '(1,)type'.\n",
      "  _np_qint32 = np.dtype([(\"qint32\", np.int32, 1)])\n",
      "/home/gil/anaconda3/envs/jjj/lib/python3.6/site-packages/tensorboard/compat/tensorflow_stub/dtypes.py:550: FutureWarning: Passing (type, 1) or '1type' as a synonym of type is deprecated; in a future version of numpy, it will be understood as (type, (1,)) / '(1,)type'.\n",
      "  np_resource = np.dtype([(\"resource\", np.ubyte, 1)])\n",
      "Using TensorFlow backend.\n"
     ]
    }
   ],
   "source": [
    "import numpy as np\n",
    "import matplotlib.pyplot as plt\n",
    "import glob, os\n",
    "import tensorflow as tf\n",
    "import keras\n",
    "from keras.models import Model\n",
    "from keras.optimizers import Adam\n",
    "from keras.callbacks import ModelCheckpoint, EarlyStopping,ReduceLROnPlateau\n",
    "from keras import backend as K\n",
    "#from keras.utils import multi_gpu_model\n",
    "from tqdm import tqdm\n",
    "from keras.layers import *\n",
    "from keras.layers.normalization import BatchNormalization"
   ]
  },
  {
   "cell_type": "code",
   "execution_count": 4,
   "metadata": {
    "ExecuteTime": {
     "end_time": "2022-12-15T01:50:51.471183Z",
     "start_time": "2022-12-15T01:50:51.467429Z"
    }
   },
   "outputs": [],
   "source": [
    "IMG_DEPTH = 128\n",
    "IMG_HEIGHT = 128\n",
    "IMG_WIDTH = 128\n",
    "IMG_CHANNELS = 1"
   ]
  },
  {
   "cell_type": "code",
   "execution_count": 5,
   "metadata": {
    "ExecuteTime": {
     "end_time": "2022-12-12T09:41:16.191082Z",
     "start_time": "2022-12-12T09:41:16.176227Z"
    }
   },
   "outputs": [],
   "source": [
    "def load_data3D(img_dir, msk_dir, IMG_DEPTH, IMG_HEIGHT, IMG_WIDTH, IMG_CHANNELS):\n",
    "\n",
    "   \n",
    "    img_list = sorted(glob.glob(img_dir +'/*.npy'))\n",
    "    msk_list = sorted(glob.glob(msk_dir +'/*.npy'))\n",
    "    \n",
    "        \n",
    "    X = np.ndarray((0, IMG_DEPTH, IMG_HEIGHT, IMG_WIDTH, IMG_CHANNELS), dtype=np.float32)\n",
    "    for dcm_no in tqdm(img_list):\n",
    "        dcm_npy = np.load(dcm_no)    # shape = (IMG_DEPTH, IMG_HEIGHT, IMG_WIDTH, IMG_CHANNELS) \n",
    "        dcm_npy = np.expand_dims(dcm_npy, axis=0)\n",
    "        X = np.concatenate((X, dcm_npy), axis=0)\n",
    "        \n",
    "    \n",
    "    Y = np.ndarray((0, IMG_DEPTH, IMG_HEIGHT, IMG_WIDTH, 2), dtype=np.float32)\n",
    "    for nii_no in tqdm(msk_list):\n",
    "        nii_npy = np.load(nii_no)   # shape = (IMG_DEPTH, IMG_HEIGHT, IMG_WIDTH, 2) \n",
    "        nii_npy = np.expand_dims(nii_npy, axis=0)\n",
    "        Y = np.concatenate((Y, nii_npy), axis=0)\n",
    "\n",
    "    \n",
    "    return X, Y"
   ]
  },
  {
   "cell_type": "code",
   "execution_count": 7,
   "metadata": {
    "ExecuteTime": {
     "end_time": "2022-12-13T01:54:21.279413Z",
     "start_time": "2022-12-13T01:14:53.751194Z"
    }
   },
   "outputs": [
    {
     "name": "stderr",
     "output_type": "stream",
     "text": [
      "100%|██████████| 630/630 [05:09<00:00,  2.03it/s]\n",
      "100%|██████████| 630/630 [10:10<00:00,  1.03it/s]\n"
     ]
    },
    {
     "name": "stdout",
     "output_type": "stream",
     "text": [
      "train_img.dtype: float32 | train_img.shape: (630, 128, 128, 128, 1)\n",
      "train_msk.dtype: float32 | train_msk.shape: (630, 128, 128, 128, 2)\n",
      "==================================================\n"
     ]
    },
    {
     "name": "stderr",
     "output_type": "stream",
     "text": [
      "100%|██████████| 209/209 [00:51<00:00,  4.04it/s]\n",
      "100%|██████████| 209/209 [01:39<00:00,  2.11it/s]\n"
     ]
    },
    {
     "name": "stdout",
     "output_type": "stream",
     "text": [
      "valid_img.dtype: float32 | valid_img.shape: (209, 128, 128, 128, 1)\n",
      "valid_msk.dtype: float32 | valid_msk.shape: (209, 128, 128, 128, 2)\n",
      "==================================================\n"
     ]
    },
    {
     "name": "stderr",
     "output_type": "stream",
     "text": [
      "100%|██████████| 209/209 [00:48<00:00,  4.29it/s]\n",
      "100%|██████████| 209/209 [01:34<00:00,  2.20it/s]\n"
     ]
    },
    {
     "name": "stdout",
     "output_type": "stream",
     "text": [
      "test_img.dtype: float32 | test_img.shape: (209, 128, 128, 128, 1)\n",
      "test_msk.dtype: float32 | test_msk.shape: (209, 128, 128, 128, 2)\n"
     ]
    }
   ],
   "source": [
    "train_img_path = './train_img'\n",
    "train_msk_path = './train_msk'\n",
    "train_img, train_msk = load_data3D(train_img_path, train_msk_path, IMG_DEPTH, IMG_HEIGHT, IMG_WIDTH, IMG_CHANNELS)\n",
    "np.save('./train_img.npy', train_img)\n",
    "np.save('./train_msk.npy', train_msk)\n",
    "print(f'train_img.dtype: {train_img.dtype} | train_img.shape: {train_img.shape}')\n",
    "print(f'train_msk.dtype: {train_msk.dtype} | train_msk.shape: {train_msk.shape}')\n",
    "\n",
    "\n",
    "print('='*50)\n",
    "\n",
    "\n",
    "valid_img_path = './valid_img'\n",
    "valid_msk_path = './valid_msk'\n",
    "valid_img, valid_msk = load_data3D(valid_img_path, valid_msk_path, IMG_DEPTH, IMG_HEIGHT, IMG_WIDTH, IMG_CHANNELS)\n",
    "np.save('./valid_img.npy', valid_img)\n",
    "np.save('./valid_msk.npy', valid_msk)\n",
    "print(f'valid_img.dtype: {valid_img.dtype} | valid_img.shape: {valid_img.shape}')\n",
    "print(f'valid_msk.dtype: {valid_msk.dtype} | valid_msk.shape: {valid_msk.shape}')\n",
    "\n",
    "\n",
    "print('='*50)\n",
    "\n",
    "\n",
    "test_img_path = './test_img'\n",
    "test_msk_path = './test_msk'\n",
    "test_img, test_msk = load_data3D(test_img_path, test_msk_path, IMG_DEPTH, IMG_HEIGHT, IMG_WIDTH, IMG_CHANNELS)\n",
    "np.save('./test_img.npy', test_img)\n",
    "np.save('./test_msk.npy', test_msk)\n",
    "print(f'test_img.dtype: {test_img.dtype} | test_img.shape: {test_img.shape}')\n",
    "print(f'test_msk.dtype: {test_msk.dtype} | test_msk.shape: {test_msk.shape}')"
   ]
  },
  {
   "cell_type": "code",
   "execution_count": 8,
   "metadata": {
    "ExecuteTime": {
     "end_time": "2022-12-15T01:58:33.778793Z",
     "start_time": "2022-12-15T01:57:17.633858Z"
    }
   },
   "outputs": [
    {
     "name": "stdout",
     "output_type": "stream",
     "text": [
      "(630, 128, 128, 128, 1) 1.0 0.0 float32\n",
      "(630, 128, 128, 128, 1) 1.0 0.0 float32\n",
      "(209, 128, 128, 128, 1) 1.0 0.0 float32\n",
      "(209, 128, 128, 128, 1) 1.0 0.0 float32\n",
      "(209, 128, 128, 128, 1) 1.0 0.0 float32\n",
      "(209, 128, 128, 128, 1) 1.0 0.0 float32\n"
     ]
    }
   ],
   "source": [
    "train_img = np.load('./train_img.npy')\n",
    "train_msk = np.load('./train_msk.npy')\n",
    "valid_img = np.load('./valid_img.npy')\n",
    "valid_msk = np.load('./valid_msk.npy')\n",
    "test_img = np.load('./test_img.npy')\n",
    "test_msk = np.load('./test_msk.npy')\n",
    "\n",
    "\n",
    "train_img = train_img / 255.0\n",
    "valid_img = valid_img / 255.0\n",
    "test_img = test_img / 255.0\n",
    "\n",
    "\n",
    "train_msk = train_msk[:,:,:,:,1]\n",
    "valid_msk = valid_msk[:,:,:,:,1]\n",
    "test_msk = test_msk[:,:,:,:,1]\n",
    "\n",
    "\n",
    "train_msk = np.expand_dims(train_msk, axis=4)\n",
    "valid_msk = np.expand_dims(valid_msk, axis=4)\n",
    "test_msk = np.expand_dims(test_msk, axis=4)\n",
    "\n",
    "\n",
    "print(train_img.shape, np.max(train_img), np.min(train_img), train_img.dtype)\n",
    "print(train_msk.shape, np.max(train_msk), np.min(train_msk), train_msk.dtype)\n",
    "print(valid_img.shape, np.max(valid_img), np.min(valid_img), valid_img.dtype)\n",
    "print(valid_msk.shape, np.max(valid_msk), np.min(valid_msk), valid_msk.dtype)\n",
    "print(test_img.shape, np.max(test_img), np.min(test_img), test_img.dtype)\n",
    "print(test_msk.shape, np.max(test_msk), np.min(test_msk), test_msk.dtype)"
   ]
  },
  {
   "cell_type": "code",
   "execution_count": 9,
   "metadata": {
    "ExecuteTime": {
     "end_time": "2022-12-15T04:38:24.386542Z",
     "start_time": "2022-12-15T04:38:24.082665Z"
    }
   },
   "outputs": [
    {
     "name": "stdout",
     "output_type": "stream",
     "text": [
      "no: 293\n"
     ]
    },
    {
     "data": {
      "text/plain": [
       "<matplotlib.image.AxesImage at 0x7f09fc3d1400>"
      ]
     },
     "execution_count": 9,
     "metadata": {},
     "output_type": "execute_result"
    },
    {
     "data": {
      "image/png": "[encoded data removed]",
      "text/plain": [
       "<Figure size 1728x216 with 3 Axes>"
      ]
     },
     "metadata": {
      "needs_background": "light"
     },
     "output_type": "display_data"
    }
   ],
   "source": [
    "import random\n",
    "no = random.randrange(0,train_img.shape[0])\n",
    "print(f'no: {no}')\n",
    "\n",
    "plt.figure(figsize=(24,3))\n",
    "\n",
    "\n",
    "plt.subplot(1,3,1)\n",
    "plt_sample_img = train_img[no, 64, :,:,:]\n",
    "plt.title(\"train_img\")\n",
    "plt.imshow(plt_sample_img, cmap = 'gray')\n",
    "\n",
    "\n",
    "plt.subplot(1,3,2)\n",
    "plt_sample_msk = train_msk[no, 64, :,:,:]\n",
    "plt.title(\"train_msk[1]\")\n",
    "plt.imshow(plt_sample_msk, cmap = 'gray')\n",
    "\n",
    "\n",
    "plt.subplot(1,3,3)\n",
    "plt_sample_img = train_img[no, 64, :,:,:]\n",
    "plt_sample_msk = train_msk[no, 64, :,:,:]\n",
    "plt.title(\"train_msk[1] on train_img\")\n",
    "plt.imshow(plt_sample_img, cmap = 'gray')\n",
    "plt.imshow(plt_sample_msk, cmap = 'Reds', alpha = 0.3)"
   ]
  },
  {
   "cell_type": "code",
   "execution_count": 10,
   "metadata": {
    "ExecuteTime": {
     "end_time": "2022-12-15T01:58:54.127572Z",
     "start_time": "2022-12-15T01:58:54.097365Z"
    }
   },
   "outputs": [],
   "source": [
    "# 3D U-Net: Learning Dense Volumetric Segmentation from Sparse Annotation 2016 CVPR\n",
    "\n",
    "def upsample_conv(filters, kernel_size, strides, padding):\n",
    "    return Conv3DTranspose(filters, kernel_size, strides=strides, padding=padding)\n",
    "\n",
    "\n",
    "def upsample_simple(filters, kernel_size, strides, padding):\n",
    "    return UpSampling3D(strides)\n",
    "\n",
    "def Three_D_U_Net(input_img, mode = 'tran'):\n",
    "    if mode == 'tran':\n",
    "        upsample = upsample_conv\n",
    "    elif mode == 'simp':\n",
    "        upsample = upsample_simple\n",
    "    \n",
    "    conv1 = Conv3D(32, 3, activation=None, padding='same')(input_img)\n",
    "    conv1 = BatchNormalization()(conv1)\n",
    "    conv1 = Activation(activation='relu')(conv1)\n",
    "    conv1 = Conv3D(64, 3, activation=None, padding='same')(conv1)\n",
    "    conv1 = BatchNormalization()(conv1)\n",
    "    conv1 = Activation(activation='relu')(conv1)\n",
    "    \n",
    "    pool1 = MaxPooling3D(pool_size=(2, 2, 2))(conv1)\n",
    "\n",
    "    conv2 = Conv3D(64, 3, activation=None, padding='same')(pool1)\n",
    "    conv2 = BatchNormalization()(conv2)\n",
    "    conv2 = Activation(activation='relu')(conv2)\n",
    "    conv2 = Conv3D(128, 3, activation=None, padding='same')(conv2)\n",
    "    conv2 = BatchNormalization()(conv2)\n",
    "    conv2 = Activation(activation='relu')(conv2)\n",
    "    \n",
    "    pool2 = MaxPooling3D(pool_size=(2, 2, 2))(conv2)\n",
    "\n",
    "    conv3 = Conv3D(128, 3, activation=None, padding='same')(pool2)\n",
    "    conv3 = BatchNormalization()(conv3)\n",
    "    conv3 = Activation(activation='relu')(conv3)\n",
    "    conv3 = Conv3D(256, 3, activation=None, padding='same')(conv3)\n",
    "    conv3 = BatchNormalization()(conv3)\n",
    "    conv3 = Activation(activation='relu')(conv3)\n",
    "    \n",
    "    pool3 = MaxPooling3D(pool_size=(2, 2, 2))(conv3)\n",
    "\n",
    "    conv4 = Conv3D(256, 3, activation=None, padding='same')(pool3)\n",
    "    conv4 = BatchNormalization()(conv4)\n",
    "    conv4 = Activation(activation='relu')(conv4)\n",
    "    conv4 = Conv3D(512, 3, activation=None, padding='same')(conv4)\n",
    "    conv4 = BatchNormalization()(conv4)\n",
    "    conv4 = Activation(activation='relu')(conv4)\n",
    "    \n",
    "    pool5 = upsample(512, (2, 2, 2), strides=(2, 2, 2), padding='same')(conv4)\n",
    "    merge = concatenate([conv3, pool5], axis = 4)\n",
    "    conv5 = Conv3D(256, 1, activation=None, padding='same')(merge)\n",
    "    conv5 = BatchNormalization()(conv5)\n",
    "    conv5 = Activation(activation='relu')(conv5)\n",
    "    conv5 = Conv3D(256, 3, activation=None, padding='same', kernel_initializer='he_normal')(conv5)\n",
    "    conv5 = BatchNormalization()(conv5)\n",
    "    conv5 = Activation(activation='relu')(conv5)\n",
    "\n",
    "    pool6 = upsample(256, (2, 2, 2), strides=(2, 2, 2), padding='same')(conv5)\n",
    "    merge = concatenate([conv2, pool6], axis = 4)\n",
    "    conv6 = Conv3D(256, 1, activation=None, padding='same')(merge)\n",
    "    conv6 = BatchNormalization()(conv6)\n",
    "    conv6 = Activation(activation='relu')(conv6)\n",
    "    conv6 = Conv3D(256, 3, activation=None, padding='same')(conv6)\n",
    "    conv6 = BatchNormalization()(conv6)\n",
    "    conv6 = Activation(activation='relu')(conv6)\n",
    "\n",
    "    pool7 = upsample(128, (2, 2, 2), strides=(2, 2, 2), padding='same')(conv6)\n",
    "    merge = concatenate([conv1, pool7], axis = 4)\n",
    "    conv7 = Conv3D(64, 1, activation=None, padding='same', kernel_initializer='he_normal')(merge)\n",
    "    conv7 = BatchNormalization()(conv7)\n",
    "    conv7 = Activation(activation='relu')(conv7)\n",
    "    conv7 = Conv3D(64, 3, activation=None, padding='same')(conv7)\n",
    "    conv7 = BatchNormalization()(conv7)\n",
    "    conv7 = Activation(activation='relu')(conv7)\n",
    "\n",
    "    out = Conv3D(1, 3, activation='sigmoid', padding='same')(conv7)\n",
    "    model = Model(inputs=input_img, outputs=out)\n",
    "    \n",
    "    return model\n"
   ]
  },
  {
   "cell_type": "code",
   "execution_count": 11,
   "metadata": {
    "ExecuteTime": {
     "end_time": "2022-12-15T01:58:57.377837Z",
     "start_time": "2022-12-15T01:58:56.166935Z"
    }
   },
   "outputs": [
    {
     "name": "stdout",
     "output_type": "stream",
     "text": [
      "Model: \"model_1\"\n",
      "__________________________________________________________________________________________________\n",
      "Layer (type)                    Output Shape         Param #     Connected to                     \n",
      "==================================================================================================\n",
      "input_1 (InputLayer)            (None, 128, 128, 128 0                                            \n",
      "__________________________________________________________________________________________________\n",
      "conv3d_1 (Conv3D)               (None, 128, 128, 128 896         input_1[0][0]                    \n",
      "__________________________________________________________________________________________________\n",
      "batch_normalization_1 (BatchNor (None, 128, 128, 128 128         conv3d_1[0][0]                   \n",
      "__________________________________________________________________________________________________\n",
      "activation_1 (Activation)       (None, 128, 128, 128 0           batch_normalization_1[0][0]      \n",
      "__________________________________________________________________________________________________\n",
      "conv3d_2 (Conv3D)               (None, 128, 128, 128 55360       activation_1[0][0]               \n",
      "__________________________________________________________________________________________________\n",
      "batch_normalization_2 (BatchNor (None, 128, 128, 128 256         conv3d_2[0][0]                   \n",
      "__________________________________________________________________________________________________\n",
      "activation_2 (Activation)       (None, 128, 128, 128 0           batch_normalization_2[0][0]      \n",
      "__________________________________________________________________________________________________\n",
      "max_pooling3d_1 (MaxPooling3D)  (None, 64, 64, 64, 6 0           activation_2[0][0]               \n",
      "__________________________________________________________________________________________________\n",
      "conv3d_3 (Conv3D)               (None, 64, 64, 64, 6 110656      max_pooling3d_1[0][0]            \n",
      "__________________________________________________________________________________________________\n",
      "batch_normalization_3 (BatchNor (None, 64, 64, 64, 6 256         conv3d_3[0][0]                   \n",
      "__________________________________________________________________________________________________\n",
      "activation_3 (Activation)       (None, 64, 64, 64, 6 0           batch_normalization_3[0][0]      \n",
      "__________________________________________________________________________________________________\n",
      "conv3d_4 (Conv3D)               (None, 64, 64, 64, 1 221312      activation_3[0][0]               \n",
      "__________________________________________________________________________________________________\n",
      "batch_normalization_4 (BatchNor (None, 64, 64, 64, 1 512         conv3d_4[0][0]                   \n",
      "__________________________________________________________________________________________________\n",
      "activation_4 (Activation)       (None, 64, 64, 64, 1 0           batch_normalization_4[0][0]      \n",
      "__________________________________________________________________________________________________\n",
      "max_pooling3d_2 (MaxPooling3D)  (None, 32, 32, 32, 1 0           activation_4[0][0]               \n",
      "__________________________________________________________________________________________________\n",
      "conv3d_5 (Conv3D)               (None, 32, 32, 32, 1 442496      max_pooling3d_2[0][0]            \n",
      "__________________________________________________________________________________________________\n",
      "batch_normalization_5 (BatchNor (None, 32, 32, 32, 1 512         conv3d_5[0][0]                   \n",
      "__________________________________________________________________________________________________\n",
      "activation_5 (Activation)       (None, 32, 32, 32, 1 0           batch_normalization_5[0][0]      \n",
      "__________________________________________________________________________________________________\n",
      "conv3d_6 (Conv3D)               (None, 32, 32, 32, 2 884992      activation_5[0][0]               \n",
      "__________________________________________________________________________________________________\n",
      "batch_normalization_6 (BatchNor (None, 32, 32, 32, 2 1024        conv3d_6[0][0]                   \n",
      "__________________________________________________________________________________________________\n",
      "activation_6 (Activation)       (None, 32, 32, 32, 2 0           batch_normalization_6[0][0]      \n",
      "__________________________________________________________________________________________________\n",
      "max_pooling3d_3 (MaxPooling3D)  (None, 16, 16, 16, 2 0           activation_6[0][0]               \n",
      "__________________________________________________________________________________________________\n",
      "conv3d_7 (Conv3D)               (None, 16, 16, 16, 2 1769728     max_pooling3d_3[0][0]            \n",
      "__________________________________________________________________________________________________\n",
      "batch_normalization_7 (BatchNor (None, 16, 16, 16, 2 1024        conv3d_7[0][0]                   \n",
      "__________________________________________________________________________________________________\n",
      "activation_7 (Activation)       (None, 16, 16, 16, 2 0           batch_normalization_7[0][0]      \n",
      "__________________________________________________________________________________________________\n",
      "conv3d_8 (Conv3D)               (None, 16, 16, 16, 5 3539456     activation_7[0][0]               \n",
      "__________________________________________________________________________________________________\n",
      "batch_normalization_8 (BatchNor (None, 16, 16, 16, 5 2048        conv3d_8[0][0]                   \n",
      "__________________________________________________________________________________________________\n",
      "activation_8 (Activation)       (None, 16, 16, 16, 5 0           batch_normalization_8[0][0]      \n",
      "__________________________________________________________________________________________________\n",
      "up_sampling3d_1 (UpSampling3D)  (None, 32, 32, 32, 5 0           activation_8[0][0]               \n",
      "__________________________________________________________________________________________________\n",
      "concatenate_1 (Concatenate)     (None, 32, 32, 32, 7 0           activation_6[0][0]               \n",
      "                                                                 up_sampling3d_1[0][0]            \n",
      "__________________________________________________________________________________________________\n",
      "conv3d_9 (Conv3D)               (None, 32, 32, 32, 2 196864      concatenate_1[0][0]              \n",
      "__________________________________________________________________________________________________\n",
      "batch_normalization_9 (BatchNor (None, 32, 32, 32, 2 1024        conv3d_9[0][0]                   \n",
      "__________________________________________________________________________________________________\n",
      "activation_9 (Activation)       (None, 32, 32, 32, 2 0           batch_normalization_9[0][0]      \n",
      "__________________________________________________________________________________________________\n",
      "conv3d_10 (Conv3D)              (None, 32, 32, 32, 2 1769728     activation_9[0][0]               \n",
      "__________________________________________________________________________________________________\n",
      "batch_normalization_10 (BatchNo (None, 32, 32, 32, 2 1024        conv3d_10[0][0]                  \n",
      "__________________________________________________________________________________________________\n",
      "activation_10 (Activation)      (None, 32, 32, 32, 2 0           batch_normalization_10[0][0]     \n",
      "__________________________________________________________________________________________________\n",
      "up_sampling3d_2 (UpSampling3D)  (None, 64, 64, 64, 2 0           activation_10[0][0]              \n",
      "__________________________________________________________________________________________________\n",
      "concatenate_2 (Concatenate)     (None, 64, 64, 64, 3 0           activation_4[0][0]               \n",
      "                                                                 up_sampling3d_2[0][0]            \n",
      "__________________________________________________________________________________________________\n",
      "conv3d_11 (Conv3D)              (None, 64, 64, 64, 2 98560       concatenate_2[0][0]              \n",
      "__________________________________________________________________________________________________\n",
      "batch_normalization_11 (BatchNo (None, 64, 64, 64, 2 1024        conv3d_11[0][0]                  \n",
      "__________________________________________________________________________________________________\n",
      "activation_11 (Activation)      (None, 64, 64, 64, 2 0           batch_normalization_11[0][0]     \n",
      "__________________________________________________________________________________________________\n",
      "conv3d_12 (Conv3D)              (None, 64, 64, 64, 2 1769728     activation_11[0][0]              \n",
      "__________________________________________________________________________________________________\n",
      "batch_normalization_12 (BatchNo (None, 64, 64, 64, 2 1024        conv3d_12[0][0]                  \n",
      "__________________________________________________________________________________________________\n",
      "activation_12 (Activation)      (None, 64, 64, 64, 2 0           batch_normalization_12[0][0]     \n",
      "__________________________________________________________________________________________________\n",
      "up_sampling3d_3 (UpSampling3D)  (None, 128, 128, 128 0           activation_12[0][0]              \n",
      "__________________________________________________________________________________________________\n",
      "concatenate_3 (Concatenate)     (None, 128, 128, 128 0           activation_2[0][0]               \n",
      "                                                                 up_sampling3d_3[0][0]            \n",
      "__________________________________________________________________________________________________\n",
      "conv3d_13 (Conv3D)              (None, 128, 128, 128 20544       concatenate_3[0][0]              \n",
      "__________________________________________________________________________________________________\n",
      "batch_normalization_13 (BatchNo (None, 128, 128, 128 256         conv3d_13[0][0]                  \n",
      "__________________________________________________________________________________________________\n",
      "activation_13 (Activation)      (None, 128, 128, 128 0           batch_normalization_13[0][0]     \n",
      "__________________________________________________________________________________________________\n",
      "conv3d_14 (Conv3D)              (None, 128, 128, 128 110656      activation_13[0][0]              \n",
      "__________________________________________________________________________________________________\n",
      "batch_normalization_14 (BatchNo (None, 128, 128, 128 256         conv3d_14[0][0]                  \n",
      "__________________________________________________________________________________________________\n",
      "activation_14 (Activation)      (None, 128, 128, 128 0           batch_normalization_14[0][0]     \n",
      "__________________________________________________________________________________________________\n",
      "conv3d_15 (Conv3D)              (None, 128, 128, 128 1729        activation_14[0][0]              \n",
      "==================================================================================================\n",
      "Total params: 11,003,073\n",
      "Trainable params: 10,997,889\n",
      "Non-trainable params: 5,184\n",
      "__________________________________________________________________________________________________\n"
     ]
    }
   ],
   "source": [
    "input_img = Input(shape=(IMG_DEPTH, IMG_HEIGHT, IMG_WIDTH, IMG_CHANNELS))\n",
    "model = Three_D_U_Net(input_img, mode = 'simp')\n",
    "model.summary()"
   ]
  },
  {
   "cell_type": "code",
   "execution_count": 12,
   "metadata": {
    "ExecuteTime": {
     "end_time": "2022-12-15T01:58:59.732524Z",
     "start_time": "2022-12-15T01:58:59.712436Z"
    }
   },
   "outputs": [],
   "source": [
    "def dice_cost_0(y_true, y_predicted):\n",
    "\n",
    "    mask_true = y_true[:, :, :, :, 0]\n",
    "    mask_pred = y_predicted[:, :, :, :, 0]\n",
    "\n",
    "    num_sum = 2.0 * K.sum(mask_true * mask_pred) + K.epsilon()\n",
    "    den_sum = K.sum(mask_true) + K.sum(mask_pred)+ K.epsilon()\n",
    "\n",
    "    return num_sum/den_sum\n",
    "\n",
    "\n",
    "\n",
    "def dice_cost_1(y_true, y_predicted):\n",
    "\n",
    "    mask_true = y_true[:, :, :, :, 1]\n",
    "    mask_pred = y_predicted[:, :, :, :, 1]\n",
    "\n",
    "    num_sum = 2.0 * K.sum(mask_true * mask_pred) + K.epsilon()\n",
    "    den_sum = K.sum(mask_true) + K.sum(mask_pred)+ K.epsilon()\n",
    "\n",
    "    return num_sum/den_sum\n",
    "\n",
    "\n",
    "def dice_cost_1_loss(y_true, y_predicted):\n",
    "\n",
    "    mask_true = y_true[:, :, :, :, 1]\n",
    "    mask_pred = y_predicted[:, :, :, :, 1]\n",
    "\n",
    "    num_sum = 2.0 * K.sum(mask_true * mask_pred) + K.epsilon()\n",
    "    den_sum = K.sum(mask_true) + K.sum(mask_pred)+ K.epsilon()\n",
    "    \n",
    "    return 1-(num_sum/den_sum)\n",
    "\n",
    "\n",
    "def dice_cost_01(y_true, y_predicted):\n",
    "\n",
    "    dice_1 = dice_cost_0(y_true, y_predicted)\n",
    "    dice_2 = dice_cost_1(y_true, y_predicted)\n",
    "\n",
    "\n",
    "    return 1/2*(dice_1+dice_2)\n",
    "\n",
    "def dice_coef(y_true, y_pred, smooth=1):\n",
    "    y_true_f = K.flatten(y_true)\n",
    "    y_pred_f = K.flatten(y_pred)\n",
    "    intersection = K.sum(y_true_f * y_pred_f)\n",
    "    return (2. * intersection + smooth) / (K.sum(y_true_f) + K.sum(y_pred_f) + smooth)\n",
    "\n",
    "def dice_coef_loss(y_true, y_pred):\n",
    "    return 1-dice_coef(y_true, y_pred)\n",
    "\n",
    "\n",
    "# Ref: salehi17, \"Twersky loss function for image segmentation using 3D FCDN\"\n",
    "# -> the score is computed for each class separately and then summed\n",
    "# alpha=beta=0.5 : dice coefficient\n",
    "# alpha=beta=1   : tanimoto coefficient (also known as jaccard)\n",
    "# alpha+beta=1   : produces set of F*-scores\n",
    "# implemented by E. Moebel, 06/04/18\n",
    "def tversky_loss(y_true, y_pred):\n",
    "    alpha = 0.5\n",
    "    beta  = 0.5\n",
    "    \n",
    "    ones = K.ones(K.shape(y_true))\n",
    "    p0 = y_pred      # proba that voxels are class i\n",
    "    p1 = ones-y_pred # proba that voxels are not class i\n",
    "    g0 = y_true\n",
    "    g1 = ones-y_true\n",
    "    \n",
    "    num = K.sum(p0*g0, (0,1,2,3))\n",
    "    den = num + alpha*K.sum(p0*g1,(0,1,2,3)) + beta*K.sum(p1*g0,(0,1,2,3))\n",
    "    \n",
    "    T = K.sum(num/den) # when summing over classes, T has dynamic range [0 Ncl]\n",
    "    \n",
    "    Ncl = K.cast(K.shape(y_true)[-1], 'float32')\n",
    "    return Ncl-T"
   ]
  },
  {
   "cell_type": "code",
   "execution_count": 13,
   "metadata": {
    "ExecuteTime": {
     "end_time": "2022-12-15T01:59:04.163594Z",
     "start_time": "2022-12-15T01:59:04.104895Z"
    }
   },
   "outputs": [],
   "source": [
    "monitor = 'val_loss'\n",
    "\n",
    "#model = multi_gpu_model(model, gpus=8)\n",
    "model.compile(optimizer=Adam(lr=0.0001), loss=tversky_loss, metrics=[dice_cost_0])\n",
    "\n",
    "checkpointer = ModelCheckpoint(filepath='./3D_basic_Unet_CV1.h5', verbose=1, save_best_only=True)\n",
    "reduce_lr = ReduceLROnPlateau(monitor=monitor, factor=0.1,\n",
    "                              patience=10, min_lr=0.000001,verbose=1)\n",
    "earlystopper = EarlyStopping(monitor=monitor, patience=35, verbose=1)"
   ]
  },
  {
   "cell_type": "code",
   "execution_count": 14,
   "metadata": {
    "ExecuteTime": {
     "end_time": "2022-12-15T03:20:44.471287Z",
     "start_time": "2022-12-15T01:59:06.997808Z"
    }
   },
   "outputs": [
    {
     "name": "stdout",
     "output_type": "stream",
     "text": [
      "WARNING:tensorflow:From /home/gil/anaconda3/envs/jjj/lib/python3.6/site-packages/keras/backend/tensorflow_backend.py:422: The name tf.global_variables is deprecated. Please use tf.compat.v1.global_variables instead.\n",
      "\n",
      "Train on 630 samples, validate on 209 samples\n",
      "Epoch 1/500\n",
      "630/630 [==============================] - 787s 1s/step - loss: 0.4319 - dice_cost_0: 0.5681 - val_loss: 0.9995 - val_dice_cost_0: 5.3035e-04\n",
      "\n",
      "Epoch 00001: val_loss improved from inf to 0.99947, saving model to ./3D_basic_Unet_CV1.h5\n",
      "Epoch 2/500\n",
      "630/630 [==============================] - 634s 1s/step - loss: 0.2767 - dice_cost_0: 0.7233 - val_loss: 0.2952 - val_dice_cost_0: 0.7039\n",
      "\n",
      "Epoch 00002: val_loss improved from 0.99947 to 0.29524, saving model to ./3D_basic_Unet_CV1.h5\n",
      "Epoch 3/500\n",
      "630/630 [==============================] - 634s 1s/step - loss: 0.2473 - dice_cost_0: 0.7527 - val_loss: 0.2728 - val_dice_cost_0: 0.7263\n",
      "\n",
      "Epoch 00003: val_loss improved from 0.29524 to 0.27276, saving model to ./3D_basic_Unet_CV1.h5\n",
      "Epoch 4/500\n",
      "630/630 [==============================] - 634s 1s/step - loss: 0.2357 - dice_cost_0: 0.7643 - val_loss: 0.2794 - val_dice_cost_0: 0.7200\n",
      "\n",
      "Epoch 00004: val_loss did not improve from 0.27276\n",
      "Epoch 5/500\n",
      "630/630 [==============================] - 634s 1s/step - loss: 0.2207 - dice_cost_0: 0.7793 - val_loss: 0.2545 - val_dice_cost_0: 0.7449\n",
      "\n",
      "Epoch 00005: val_loss improved from 0.27276 to 0.25448, saving model to ./3D_basic_Unet_CV1.h5\n",
      "Epoch 6/500\n",
      "630/630 [==============================] - 634s 1s/step - loss: 0.2168 - dice_cost_0: 0.7832 - val_loss: 0.3615 - val_dice_cost_0: 0.6380\n",
      "\n",
      "Epoch 00006: val_loss did not improve from 0.25448\n",
      "Epoch 7/500\n",
      "630/630 [==============================] - 636s 1s/step - loss: 0.2042 - dice_cost_0: 0.7958 - val_loss: 0.2584 - val_dice_cost_0: 0.7413\n",
      "\n",
      "Epoch 00007: val_loss did not improve from 0.25448\n",
      "Epoch 8/500\n",
      "630/630 [==============================] - 636s 1s/step - loss: 0.1957 - dice_cost_0: 0.8043 - val_loss: 0.2446 - val_dice_cost_0: 0.7552\n",
      "\n",
      "Epoch 00008: val_loss improved from 0.25448 to 0.24456, saving model to ./3D_basic_Unet_CV1.h5\n",
      "Epoch 9/500\n",
      "630/630 [==============================] - 634s 1s/step - loss: 0.1940 - dice_cost_0: 0.8060 - val_loss: 0.2425 - val_dice_cost_0: 0.7571\n",
      "\n",
      "Epoch 00009: val_loss improved from 0.24456 to 0.24246, saving model to ./3D_basic_Unet_CV1.h5\n",
      "Epoch 10/500\n",
      "630/630 [==============================] - 634s 1s/step - loss: 0.1912 - dice_cost_0: 0.8088 - val_loss: 0.2470 - val_dice_cost_0: 0.7524\n",
      "\n",
      "Epoch 00010: val_loss did not improve from 0.24246\n",
      "Epoch 11/500\n",
      "630/630 [==============================] - 635s 1s/step - loss: 0.1857 - dice_cost_0: 0.8143 - val_loss: 0.2769 - val_dice_cost_0: 0.7226\n",
      "\n",
      "Epoch 00011: val_loss did not improve from 0.24246\n",
      "Epoch 12/500\n",
      "630/630 [==============================] - 635s 1s/step - loss: 0.1785 - dice_cost_0: 0.8215 - val_loss: 0.3580 - val_dice_cost_0: 0.6408\n",
      "\n",
      "Epoch 00012: val_loss did not improve from 0.24246\n",
      "Epoch 13/500\n",
      "630/630 [==============================] - 635s 1s/step - loss: 0.1693 - dice_cost_0: 0.8307 - val_loss: 0.2404 - val_dice_cost_0: 0.7591\n",
      "\n",
      "Epoch 00013: val_loss improved from 0.24246 to 0.24041, saving model to ./3D_basic_Unet_CV1.h5\n",
      "Epoch 14/500\n",
      "630/630 [==============================] - 635s 1s/step - loss: 0.1617 - dice_cost_0: 0.8383 - val_loss: 0.2472 - val_dice_cost_0: 0.7526\n",
      "\n",
      "Epoch 00014: val_loss did not improve from 0.24041\n",
      "Epoch 15/500\n",
      "630/630 [==============================] - 636s 1s/step - loss: 0.1551 - dice_cost_0: 0.8449 - val_loss: 0.2454 - val_dice_cost_0: 0.7536\n",
      "\n",
      "Epoch 00015: val_loss did not improve from 0.24041\n",
      "Epoch 16/500\n",
      "630/630 [==============================] - 635s 1s/step - loss: 0.1550 - dice_cost_0: 0.8450 - val_loss: 0.2409 - val_dice_cost_0: 0.7585\n",
      "\n",
      "Epoch 00016: val_loss did not improve from 0.24041\n",
      "Epoch 17/500\n",
      "630/630 [==============================] - 636s 1s/step - loss: 0.1468 - dice_cost_0: 0.8532 - val_loss: 0.2365 - val_dice_cost_0: 0.7628\n",
      "\n",
      "Epoch 00017: val_loss improved from 0.24041 to 0.23650, saving model to ./3D_basic_Unet_CV1.h5\n",
      "Epoch 18/500\n",
      "630/630 [==============================] - 636s 1s/step - loss: 0.1372 - dice_cost_0: 0.8628 - val_loss: 0.2284 - val_dice_cost_0: 0.7711\n",
      "\n",
      "Epoch 00018: val_loss improved from 0.23650 to 0.22845, saving model to ./3D_basic_Unet_CV1.h5\n",
      "Epoch 19/500\n",
      "630/630 [==============================] - 636s 1s/step - loss: 0.1338 - dice_cost_0: 0.8662 - val_loss: 0.2366 - val_dice_cost_0: 0.7630\n",
      "\n",
      "Epoch 00019: val_loss did not improve from 0.22845\n",
      "Epoch 20/500\n",
      "630/630 [==============================] - 636s 1s/step - loss: 0.1240 - dice_cost_0: 0.8760 - val_loss: 0.2519 - val_dice_cost_0: 0.7477\n",
      "\n",
      "Epoch 00020: val_loss did not improve from 0.22845\n",
      "Epoch 21/500\n",
      "630/630 [==============================] - 636s 1s/step - loss: 0.1172 - dice_cost_0: 0.8828 - val_loss: 0.2390 - val_dice_cost_0: 0.7606\n",
      "\n",
      "Epoch 00021: val_loss did not improve from 0.22845\n",
      "Epoch 22/500\n",
      "630/630 [==============================] - 636s 1s/step - loss: 0.1206 - dice_cost_0: 0.8794 - val_loss: 0.2958 - val_dice_cost_0: 0.7032\n",
      "\n",
      "Epoch 00022: val_loss did not improve from 0.22845\n",
      "Epoch 23/500\n",
      "630/630 [==============================] - 635s 1s/step - loss: 0.1133 - dice_cost_0: 0.8867 - val_loss: 0.2445 - val_dice_cost_0: 0.7550\n",
      "\n",
      "Epoch 00023: val_loss did not improve from 0.22845\n",
      "Epoch 24/500\n",
      "630/630 [==============================] - 635s 1s/step - loss: 0.1026 - dice_cost_0: 0.8974 - val_loss: 0.2313 - val_dice_cost_0: 0.7681\n",
      "\n",
      "Epoch 00024: val_loss did not improve from 0.22845\n",
      "Epoch 25/500\n",
      "630/630 [==============================] - 636s 1s/step - loss: 0.0960 - dice_cost_0: 0.9040 - val_loss: 0.2421 - val_dice_cost_0: 0.7575\n",
      "\n",
      "Epoch 00025: val_loss did not improve from 0.22845\n",
      "Epoch 26/500\n",
      "630/630 [==============================] - 635s 1s/step - loss: 0.0921 - dice_cost_0: 0.9079 - val_loss: 0.2338 - val_dice_cost_0: 0.7659\n",
      "\n",
      "Epoch 00026: val_loss did not improve from 0.22845\n",
      "Epoch 27/500\n",
      "630/630 [==============================] - 636s 1s/step - loss: 0.0912 - dice_cost_0: 0.9088 - val_loss: 0.2371 - val_dice_cost_0: 0.7625\n",
      "\n",
      "Epoch 00027: val_loss did not improve from 0.22845\n",
      "Epoch 28/500\n",
      "630/630 [==============================] - 636s 1s/step - loss: 0.0870 - dice_cost_0: 0.9130 - val_loss: 0.2499 - val_dice_cost_0: 0.7499\n",
      "\n",
      "Epoch 00028: ReduceLROnPlateau reducing learning rate to 9.999999747378752e-06.\n",
      "\n",
      "Epoch 00028: val_loss did not improve from 0.22845\n",
      "Epoch 29/500\n",
      "630/630 [==============================] - 635s 1s/step - loss: 0.0787 - dice_cost_0: 0.9213 - val_loss: 0.2266 - val_dice_cost_0: 0.7730\n",
      "\n",
      "Epoch 00029: val_loss improved from 0.22845 to 0.22658, saving model to ./3D_basic_Unet_CV1.h5\n",
      "Epoch 30/500\n",
      "630/630 [==============================] - 636s 1s/step - loss: 0.0736 - dice_cost_0: 0.9264 - val_loss: 0.2272 - val_dice_cost_0: 0.7723\n",
      "\n",
      "Epoch 00030: val_loss did not improve from 0.22658\n",
      "Epoch 31/500\n",
      "630/630 [==============================] - 635s 1s/step - loss: 0.0708 - dice_cost_0: 0.9292 - val_loss: 0.2273 - val_dice_cost_0: 0.7723\n",
      "\n",
      "Epoch 00031: val_loss did not improve from 0.22658\n",
      "Epoch 32/500\n",
      "630/630 [==============================] - 636s 1s/step - loss: 0.0689 - dice_cost_0: 0.9311 - val_loss: 0.2281 - val_dice_cost_0: 0.7716\n",
      "\n",
      "Epoch 00032: val_loss did not improve from 0.22658\n",
      "Epoch 33/500\n",
      "630/630 [==============================] - 636s 1s/step - loss: 0.0675 - dice_cost_0: 0.9325 - val_loss: 0.2280 - val_dice_cost_0: 0.7716\n",
      "\n",
      "Epoch 00033: val_loss did not improve from 0.22658\n",
      "Epoch 34/500\n",
      "630/630 [==============================] - 636s 1s/step - loss: 0.0655 - dice_cost_0: 0.9345 - val_loss: 0.2280 - val_dice_cost_0: 0.7716\n",
      "\n",
      "Epoch 00034: val_loss did not improve from 0.22658\n",
      "Epoch 35/500\n",
      "630/630 [==============================] - 636s 1s/step - loss: 0.0641 - dice_cost_0: 0.9359 - val_loss: 0.2291 - val_dice_cost_0: 0.7705\n",
      "\n",
      "Epoch 00035: val_loss did not improve from 0.22658\n",
      "Epoch 36/500\n",
      "630/630 [==============================] - 636s 1s/step - loss: 0.0631 - dice_cost_0: 0.9369 - val_loss: 0.2291 - val_dice_cost_0: 0.7705\n",
      "\n",
      "Epoch 00036: val_loss did not improve from 0.22658\n",
      "Epoch 37/500\n",
      "630/630 [==============================] - 636s 1s/step - loss: 0.0615 - dice_cost_0: 0.9385 - val_loss: 0.2299 - val_dice_cost_0: 0.7697\n",
      "\n",
      "Epoch 00037: val_loss did not improve from 0.22658\n",
      "Epoch 38/500\n",
      "630/630 [==============================] - 635s 1s/step - loss: 0.0603 - dice_cost_0: 0.9397 - val_loss: 0.2293 - val_dice_cost_0: 0.7703\n",
      "\n",
      "Epoch 00038: val_loss did not improve from 0.22658\n",
      "Epoch 39/500\n",
      "630/630 [==============================] - 635s 1s/step - loss: 0.0594 - dice_cost_0: 0.9406 - val_loss: 0.2296 - val_dice_cost_0: 0.7700\n",
      "\n",
      "Epoch 00039: ReduceLROnPlateau reducing learning rate to 1e-06.\n",
      "\n",
      "Epoch 00039: val_loss did not improve from 0.22658\n",
      "Epoch 40/500\n",
      "630/630 [==============================] - 636s 1s/step - loss: 0.0578 - dice_cost_0: 0.9422 - val_loss: 0.2300 - val_dice_cost_0: 0.7696\n",
      "\n",
      "Epoch 00040: val_loss did not improve from 0.22658\n",
      "Epoch 41/500\n",
      "630/630 [==============================] - 636s 1s/step - loss: 0.0571 - dice_cost_0: 0.9429 - val_loss: 0.2300 - val_dice_cost_0: 0.7696\n",
      "\n",
      "Epoch 00041: val_loss did not improve from 0.22658\n",
      "Epoch 42/500\n",
      "630/630 [==============================] - 635s 1s/step - loss: 0.0571 - dice_cost_0: 0.9429 - val_loss: 0.2305 - val_dice_cost_0: 0.7691\n",
      "\n",
      "Epoch 00042: val_loss did not improve from 0.22658\n",
      "Epoch 43/500\n",
      "630/630 [==============================] - 635s 1s/step - loss: 0.0569 - dice_cost_0: 0.9431 - val_loss: 0.2302 - val_dice_cost_0: 0.7695\n",
      "\n",
      "Epoch 00043: val_loss did not improve from 0.22658\n",
      "Epoch 44/500\n",
      "630/630 [==============================] - 635s 1s/step - loss: 0.0568 - dice_cost_0: 0.9432 - val_loss: 0.2304 - val_dice_cost_0: 0.7692\n",
      "\n",
      "Epoch 00044: val_loss did not improve from 0.22658\n",
      "Epoch 45/500\n",
      "630/630 [==============================] - 635s 1s/step - loss: 0.0567 - dice_cost_0: 0.9433 - val_loss: 0.2302 - val_dice_cost_0: 0.7694\n",
      "\n",
      "Epoch 00045: val_loss did not improve from 0.22658\n",
      "Epoch 46/500\n",
      "630/630 [==============================] - 636s 1s/step - loss: 0.0565 - dice_cost_0: 0.9435 - val_loss: 0.2305 - val_dice_cost_0: 0.7692\n",
      "\n",
      "Epoch 00046: val_loss did not improve from 0.22658\n",
      "Epoch 47/500\n",
      "630/630 [==============================] - 635s 1s/step - loss: 0.0563 - dice_cost_0: 0.9437 - val_loss: 0.2306 - val_dice_cost_0: 0.7690\n",
      "\n",
      "Epoch 00047: val_loss did not improve from 0.22658\n",
      "Epoch 48/500\n",
      "630/630 [==============================] - 635s 1s/step - loss: 0.0561 - dice_cost_0: 0.9439 - val_loss: 0.2306 - val_dice_cost_0: 0.7690\n",
      "\n",
      "Epoch 00048: val_loss did not improve from 0.22658\n",
      "Epoch 49/500\n",
      "630/630 [==============================] - 636s 1s/step - loss: 0.0558 - dice_cost_0: 0.9442 - val_loss: 0.2306 - val_dice_cost_0: 0.7690\n",
      "\n",
      "Epoch 00049: val_loss did not improve from 0.22658\n",
      "Epoch 50/500\n",
      "630/630 [==============================] - 635s 1s/step - loss: 0.0562 - dice_cost_0: 0.9438 - val_loss: 0.2305 - val_dice_cost_0: 0.7691\n",
      "\n",
      "Epoch 00050: val_loss did not improve from 0.22658\n",
      "Epoch 51/500\n",
      "630/630 [==============================] - 636s 1s/step - loss: 0.0557 - dice_cost_0: 0.9443 - val_loss: 0.2304 - val_dice_cost_0: 0.7692\n",
      "\n",
      "Epoch 00051: val_loss did not improve from 0.22658\n",
      "Epoch 52/500\n",
      "630/630 [==============================] - 635s 1s/step - loss: 0.0555 - dice_cost_0: 0.9445 - val_loss: 0.2304 - val_dice_cost_0: 0.7692\n",
      "\n",
      "Epoch 00052: val_loss did not improve from 0.22658\n",
      "Epoch 53/500\n",
      "630/630 [==============================] - 635s 1s/step - loss: 0.0553 - dice_cost_0: 0.9447 - val_loss: 0.2307 - val_dice_cost_0: 0.7689\n",
      "\n",
      "Epoch 00053: val_loss did not improve from 0.22658\n",
      "Epoch 54/500\n",
      "630/630 [==============================] - 636s 1s/step - loss: 0.0556 - dice_cost_0: 0.9444 - val_loss: 0.2306 - val_dice_cost_0: 0.7691\n",
      "\n",
      "Epoch 00054: val_loss did not improve from 0.22658\n",
      "Epoch 55/500\n",
      "630/630 [==============================] - 635s 1s/step - loss: 0.0550 - dice_cost_0: 0.9450 - val_loss: 0.2305 - val_dice_cost_0: 0.7692\n",
      "\n",
      "Epoch 00055: val_loss did not improve from 0.22658\n",
      "Epoch 56/500\n",
      "630/630 [==============================] - 635s 1s/step - loss: 0.0551 - dice_cost_0: 0.9449 - val_loss: 0.2308 - val_dice_cost_0: 0.7688\n",
      "\n",
      "Epoch 00056: val_loss did not improve from 0.22658\n",
      "Epoch 57/500\n",
      "630/630 [==============================] - 636s 1s/step - loss: 0.0551 - dice_cost_0: 0.9449 - val_loss: 0.2308 - val_dice_cost_0: 0.7688\n",
      "\n",
      "Epoch 00057: val_loss did not improve from 0.22658\n",
      "Epoch 58/500\n",
      "630/630 [==============================] - 635s 1s/step - loss: 0.0548 - dice_cost_0: 0.9452 - val_loss: 0.2306 - val_dice_cost_0: 0.7690\n",
      "\n",
      "Epoch 00058: val_loss did not improve from 0.22658\n",
      "Epoch 59/500\n",
      "630/630 [==============================] - 635s 1s/step - loss: 0.0546 - dice_cost_0: 0.9454 - val_loss: 0.2310 - val_dice_cost_0: 0.7686\n",
      "\n",
      "Epoch 00059: val_loss did not improve from 0.22658\n",
      "Epoch 60/500\n",
      "630/630 [==============================] - 636s 1s/step - loss: 0.0548 - dice_cost_0: 0.9452 - val_loss: 0.2310 - val_dice_cost_0: 0.7687\n",
      "\n",
      "Epoch 00060: val_loss did not improve from 0.22658\n",
      "Epoch 61/500\n",
      "630/630 [==============================] - 636s 1s/step - loss: 0.0542 - dice_cost_0: 0.9458 - val_loss: 0.2311 - val_dice_cost_0: 0.7685\n",
      "\n",
      "Epoch 00061: val_loss did not improve from 0.22658\n",
      "Epoch 62/500\n",
      "630/630 [==============================] - 636s 1s/step - loss: 0.0545 - dice_cost_0: 0.9455 - val_loss: 0.2311 - val_dice_cost_0: 0.7686\n",
      "\n",
      "Epoch 00062: val_loss did not improve from 0.22658\n",
      "Epoch 63/500\n",
      "630/630 [==============================] - 635s 1s/step - loss: 0.0541 - dice_cost_0: 0.9459 - val_loss: 0.2310 - val_dice_cost_0: 0.7687\n",
      "\n",
      "Epoch 00063: val_loss did not improve from 0.22658\n",
      "Epoch 64/500\n",
      "630/630 [==============================] - 634s 1s/step - loss: 0.0540 - dice_cost_0: 0.9460 - val_loss: 0.2310 - val_dice_cost_0: 0.7686\n",
      "\n",
      "Epoch 00064: val_loss did not improve from 0.22658\n",
      "Epoch 00064: early stopping\n"
     ]
    }
   ],
   "source": [
    "callbacks = [reduce_lr, earlystopper, checkpointer]\n",
    "\n",
    "results = model.fit(train_img, train_msk, \n",
    "                    validation_data=(valid_img, valid_msk), \n",
    "                    epochs=500, \n",
    "                    verbose=1,\n",
    "                    batch_size=2, \n",
    "                    callbacks=callbacks)"
   ]
  },
  {
   "cell_type": "code",
   "execution_count": 15,
   "metadata": {
    "ExecuteTime": {
     "end_time": "2022-12-15T03:20:53.449643Z",
     "start_time": "2022-12-15T03:20:53.272468Z"
    }
   },
   "outputs": [
    {
     "data": {
      "image/png": "[encoded data removed]",
      "text/plain": [
       "<Figure size 432x288 with 1 Axes>"
      ]
     },
     "metadata": {
      "needs_background": "light"
     },
     "output_type": "display_data"
    }
   ],
   "source": [
    "fig = plt.figure()\n",
    "# plt.axes(facecolor='white')\n",
    "plt.plot(results.history['loss'])\n",
    "plt.plot(results.history['val_loss'])\n",
    "plt.title('model loss')\n",
    "plt.ylabel('loss')\n",
    "plt.xlabel('epoch')\n",
    "plt.legend(['train', 'val'], loc='upper left')\n",
    "plt.savefig('loss.png')"
   ]
  },
  {
   "cell_type": "code",
   "execution_count": 16,
   "metadata": {
    "ExecuteTime": {
     "end_time": "2022-12-15T03:21:19.540313Z",
     "start_time": "2022-12-15T03:21:08.758722Z"
    }
   },
   "outputs": [
    {
     "name": "stdout",
     "output_type": "stream",
     "text": [
      "Model: \"model_1\"\n",
      "__________________________________________________________________________________________________\n",
      "Layer (type)                    Output Shape         Param #     Connected to                     \n",
      "==================================================================================================\n",
      "input_1 (InputLayer)            (None, 128, 128, 128 0                                            \n",
      "__________________________________________________________________________________________________\n",
      "conv3d_1 (Conv3D)               (None, 128, 128, 128 896         input_1[0][0]                    \n",
      "__________________________________________________________________________________________________\n",
      "batch_normalization_1 (BatchNor (None, 128, 128, 128 128         conv3d_1[0][0]                   \n",
      "__________________________________________________________________________________________________\n",
      "activation_1 (Activation)       (None, 128, 128, 128 0           batch_normalization_1[0][0]      \n",
      "__________________________________________________________________________________________________\n",
      "conv3d_2 (Conv3D)               (None, 128, 128, 128 55360       activation_1[0][0]               \n",
      "__________________________________________________________________________________________________\n",
      "batch_normalization_2 (BatchNor (None, 128, 128, 128 256         conv3d_2[0][0]                   \n",
      "__________________________________________________________________________________________________\n",
      "activation_2 (Activation)       (None, 128, 128, 128 0           batch_normalization_2[0][0]      \n",
      "__________________________________________________________________________________________________\n",
      "max_pooling3d_1 (MaxPooling3D)  (None, 64, 64, 64, 6 0           activation_2[0][0]               \n",
      "__________________________________________________________________________________________________\n",
      "conv3d_3 (Conv3D)               (None, 64, 64, 64, 6 110656      max_pooling3d_1[0][0]            \n",
      "__________________________________________________________________________________________________\n",
      "batch_normalization_3 (BatchNor (None, 64, 64, 64, 6 256         conv3d_3[0][0]                   \n",
      "__________________________________________________________________________________________________\n",
      "activation_3 (Activation)       (None, 64, 64, 64, 6 0           batch_normalization_3[0][0]      \n",
      "__________________________________________________________________________________________________\n",
      "conv3d_4 (Conv3D)               (None, 64, 64, 64, 1 221312      activation_3[0][0]               \n",
      "__________________________________________________________________________________________________\n",
      "batch_normalization_4 (BatchNor (None, 64, 64, 64, 1 512         conv3d_4[0][0]                   \n",
      "__________________________________________________________________________________________________\n",
      "activation_4 (Activation)       (None, 64, 64, 64, 1 0           batch_normalization_4[0][0]      \n",
      "__________________________________________________________________________________________________\n",
      "max_pooling3d_2 (MaxPooling3D)  (None, 32, 32, 32, 1 0           activation_4[0][0]               \n",
      "__________________________________________________________________________________________________\n",
      "conv3d_5 (Conv3D)               (None, 32, 32, 32, 1 442496      max_pooling3d_2[0][0]            \n",
      "__________________________________________________________________________________________________\n",
      "batch_normalization_5 (BatchNor (None, 32, 32, 32, 1 512         conv3d_5[0][0]                   \n",
      "__________________________________________________________________________________________________\n",
      "activation_5 (Activation)       (None, 32, 32, 32, 1 0           batch_normalization_5[0][0]      \n",
      "__________________________________________________________________________________________________\n",
      "conv3d_6 (Conv3D)               (None, 32, 32, 32, 2 884992      activation_5[0][0]               \n",
      "__________________________________________________________________________________________________\n",
      "batch_normalization_6 (BatchNor (None, 32, 32, 32, 2 1024        conv3d_6[0][0]                   \n",
      "__________________________________________________________________________________________________\n",
      "activation_6 (Activation)       (None, 32, 32, 32, 2 0           batch_normalization_6[0][0]      \n",
      "__________________________________________________________________________________________________\n",
      "max_pooling3d_3 (MaxPooling3D)  (None, 16, 16, 16, 2 0           activation_6[0][0]               \n",
      "__________________________________________________________________________________________________\n",
      "conv3d_7 (Conv3D)               (None, 16, 16, 16, 2 1769728     max_pooling3d_3[0][0]            \n",
      "__________________________________________________________________________________________________\n",
      "batch_normalization_7 (BatchNor (None, 16, 16, 16, 2 1024        conv3d_7[0][0]                   \n",
      "__________________________________________________________________________________________________\n",
      "activation_7 (Activation)       (None, 16, 16, 16, 2 0           batch_normalization_7[0][0]      \n",
      "__________________________________________________________________________________________________\n",
      "conv3d_8 (Conv3D)               (None, 16, 16, 16, 5 3539456     activation_7[0][0]               \n",
      "__________________________________________________________________________________________________\n",
      "batch_normalization_8 (BatchNor (None, 16, 16, 16, 5 2048        conv3d_8[0][0]                   \n",
      "__________________________________________________________________________________________________\n",
      "activation_8 (Activation)       (None, 16, 16, 16, 5 0           batch_normalization_8[0][0]      \n",
      "__________________________________________________________________________________________________\n",
      "up_sampling3d_1 (UpSampling3D)  (None, 32, 32, 32, 5 0           activation_8[0][0]               \n",
      "__________________________________________________________________________________________________\n",
      "concatenate_1 (Concatenate)     (None, 32, 32, 32, 7 0           activation_6[0][0]               \n",
      "                                                                 up_sampling3d_1[0][0]            \n",
      "__________________________________________________________________________________________________\n",
      "conv3d_9 (Conv3D)               (None, 32, 32, 32, 2 196864      concatenate_1[0][0]              \n",
      "__________________________________________________________________________________________________\n",
      "batch_normalization_9 (BatchNor (None, 32, 32, 32, 2 1024        conv3d_9[0][0]                   \n",
      "__________________________________________________________________________________________________\n",
      "activation_9 (Activation)       (None, 32, 32, 32, 2 0           batch_normalization_9[0][0]      \n",
      "__________________________________________________________________________________________________\n",
      "conv3d_10 (Conv3D)              (None, 32, 32, 32, 2 1769728     activation_9[0][0]               \n",
      "__________________________________________________________________________________________________\n",
      "batch_normalization_10 (BatchNo (None, 32, 32, 32, 2 1024        conv3d_10[0][0]                  \n",
      "__________________________________________________________________________________________________\n",
      "activation_10 (Activation)      (None, 32, 32, 32, 2 0           batch_normalization_10[0][0]     \n",
      "__________________________________________________________________________________________________\n",
      "up_sampling3d_2 (UpSampling3D)  (None, 64, 64, 64, 2 0           activation_10[0][0]              \n",
      "__________________________________________________________________________________________________\n",
      "concatenate_2 (Concatenate)     (None, 64, 64, 64, 3 0           activation_4[0][0]               \n",
      "                                                                 up_sampling3d_2[0][0]            \n",
      "__________________________________________________________________________________________________\n",
      "conv3d_11 (Conv3D)              (None, 64, 64, 64, 2 98560       concatenate_2[0][0]              \n",
      "__________________________________________________________________________________________________\n",
      "batch_normalization_11 (BatchNo (None, 64, 64, 64, 2 1024        conv3d_11[0][0]                  \n",
      "__________________________________________________________________________________________________\n",
      "activation_11 (Activation)      (None, 64, 64, 64, 2 0           batch_normalization_11[0][0]     \n",
      "__________________________________________________________________________________________________\n",
      "conv3d_12 (Conv3D)              (None, 64, 64, 64, 2 1769728     activation_11[0][0]              \n",
      "__________________________________________________________________________________________________\n",
      "batch_normalization_12 (BatchNo (None, 64, 64, 64, 2 1024        conv3d_12[0][0]                  \n",
      "__________________________________________________________________________________________________\n",
      "activation_12 (Activation)      (None, 64, 64, 64, 2 0           batch_normalization_12[0][0]     \n",
      "__________________________________________________________________________________________________\n",
      "up_sampling3d_3 (UpSampling3D)  (None, 128, 128, 128 0           activation_12[0][0]              \n",
      "__________________________________________________________________________________________________\n",
      "concatenate_3 (Concatenate)     (None, 128, 128, 128 0           activation_2[0][0]               \n",
      "                                                                 up_sampling3d_3[0][0]            \n",
      "__________________________________________________________________________________________________\n",
      "conv3d_13 (Conv3D)              (None, 128, 128, 128 20544       concatenate_3[0][0]              \n",
      "__________________________________________________________________________________________________\n",
      "batch_normalization_13 (BatchNo (None, 128, 128, 128 256         conv3d_13[0][0]                  \n",
      "__________________________________________________________________________________________________\n",
      "activation_13 (Activation)      (None, 128, 128, 128 0           batch_normalization_13[0][0]     \n",
      "__________________________________________________________________________________________________\n",
      "conv3d_14 (Conv3D)              (None, 128, 128, 128 110656      activation_13[0][0]              \n",
      "__________________________________________________________________________________________________\n",
      "batch_normalization_14 (BatchNo (None, 128, 128, 128 256         conv3d_14[0][0]                  \n",
      "__________________________________________________________________________________________________\n",
      "activation_14 (Activation)      (None, 128, 128, 128 0           batch_normalization_14[0][0]     \n",
      "__________________________________________________________________________________________________\n",
      "conv3d_15 (Conv3D)              (None, 128, 128, 128 1729        activation_14[0][0]              \n",
      "==================================================================================================\n",
      "Total params: 11,003,073\n",
      "Trainable params: 10,997,889\n",
      "Non-trainable params: 5,184\n",
      "__________________________________________________________________________________________________\n"
     ]
    }
   ],
   "source": [
    "from keras.models import load_model\n",
    "\n",
    "#test_model = load_model('./3D_basic_Unet_CV1.h5',\n",
    "#                   custom_objects = {'tversky_loss': tversky_loss,\n",
    "#                                     'dice_cost_0': dice_cost_0,\n",
    "#                                     'dice_cost_1': dice_cost_1,\n",
    "#                                     'dice_cost_1_loss': dice_cost_1_loss})\n",
    "\n",
    "\n",
    "test_model = load_model('./3D_basic_Unet_CV1.h5',\n",
    "                   custom_objects = {'tversky_loss': tversky_loss,\n",
    "                                     'dice_cost_0': dice_cost_0})\n",
    "\n",
    "test_model.summary()"
   ]
  },
  {
   "cell_type": "code",
   "execution_count": 17,
   "metadata": {},
   "outputs": [
    {
     "name": "stdout",
     "output_type": "stream",
     "text": [
      "(209, 128, 128, 128, 1) 1.0 0.0 float32\n",
      "(209, 128, 128, 128, 1) 1.0 0.0 float32\n"
     ]
    }
   ],
   "source": [
    "test_img = np.load('./test_img.npy')\n",
    "test_msk = np.load('./test_msk.npy')\n",
    "\n",
    "\n",
    "test_img = test_img / 255.0\n",
    "\n",
    "test_msk = test_msk[:,:,:,:,1]\n",
    "test_msk = np.expand_dims(test_msk, axis=4)\n",
    "\n",
    "\n",
    "print(test_img.shape, np.max(test_img), np.min(test_img), test_img.dtype)\n",
    "print(test_msk.shape, np.max(test_msk), np.min(test_msk), test_msk.dtype)"
   ]
  },
  {
   "cell_type": "code",
   "execution_count": 18,
   "metadata": {
    "ExecuteTime": {
     "end_time": "2022-12-15T03:21:56.541514Z",
     "start_time": "2022-12-15T03:21:38.657171Z"
    }
   },
   "outputs": [
    {
     "name": "stdout",
     "output_type": "stream",
     "text": [
      "209/209 [==============================] - 61s 291ms/step\n",
      "(209, 128, 128, 128, 1) 1.0 0.0 float32\n"
     ]
    }
   ],
   "source": [
    "test_pred = test_model.predict(test_img, batch_size=2, verbose=1)\n",
    "#test_pred = model.predict(test_img, batch_size=2, verbose=1)\n",
    "\n",
    "np.save('./pred_result_CV1.npy', test_pred)\n",
    "\n",
    "print(test_pred.shape, np.max(test_pred), np.min(test_pred), test_pred.dtype)"
   ]
  },
  {
   "cell_type": "code",
   "execution_count": 19,
   "metadata": {
    "ExecuteTime": {
     "end_time": "2022-12-15T03:23:25.439061Z",
     "start_time": "2022-12-15T03:23:23.092596Z"
    }
   },
   "outputs": [
    {
     "name": "stderr",
     "output_type": "stream",
     "text": [
      "/home/gil/anaconda3/envs/jjj/lib/python3.6/site-packages/ipykernel_launcher.py:31: RuntimeWarning: invalid value encountered in long_scalars\n",
      "/home/gil/anaconda3/envs/jjj/lib/python3.6/site-packages/ipykernel_launcher.py:41: RuntimeWarning: invalid value encountered in long_scalars\n"
     ]
    }
   ],
   "source": [
    "# 평가지표 구하는 수식\n",
    "recall_list = []\n",
    "specificity_list = []\n",
    "precision_list = []\n",
    "acc_list = []\n",
    "dice_list = []\n",
    "\n",
    "for i in range(test_msk.shape[0]):\n",
    "    for j in range(test_msk.shape[1]):\n",
    "        \n",
    "        seg1 = test_pred[i,j,:,:,0] > 0.5\n",
    "        gt1 = test_msk[i,j,:,:,0]\n",
    "        \n",
    "        #if np.sum(gt1) != 0:\n",
    "            \n",
    "        seg1_n = seg1 == 0\n",
    "        seg1_t = seg1 == 1\n",
    "        \n",
    "        gt1_n = gt1 == 0\n",
    "        gt1_t = gt1 == 1\n",
    "        \n",
    "        tp = np.sum(seg1_t&gt1_t)\n",
    "        \n",
    "        fp = np.sum(seg1_t&gt1_n)\n",
    "        \n",
    "        tn = np.sum(seg1_n&gt1_n)\n",
    "        \n",
    "        fn = np.sum(seg1_n&gt1_t)\n",
    "        \n",
    "       \n",
    "        recall = tp / (tp + fn)\n",
    "        if np.isnan(recall):\n",
    "            #print('recall is nan {0}\\t(tp:{1})\\t tn:{2}\\t fp:{3}\\t(fn:{4})'.format(i, tp, tn, fp, fn))\n",
    "            continue\n",
    "        \n",
    "        specificity = tn / (tn + fp)\n",
    "        if np.isnan(specificity):\n",
    "            #print('specificity is nan {0}\\t tp:{1}\\t(tn:{2})\\t(fp:{3})\\t fn:{4}'.format(i, tp, tn, fp, fn))\n",
    "            continue\n",
    "        \n",
    "        precision = tp / (tp + fp)\n",
    "        if np.isnan(precision):\n",
    "            #print('precision is nan {0}\\t(tp:{1})\\t tn:{2}\\t(fp:{3})\\t fn:{4}'.format(i, tp, tn, fp, fn))\n",
    "            continue\n",
    "        \n",
    "        acc = (tp + tn) / (tp + tn + fp + fn)\n",
    "        if np.isnan(acc):\n",
    "            #print('acc is nan {0}\\t(tp:{1})\\t(tn:{2})\\t(fp:{3})\\t(fn:{4})'.format(i, tp, tn, fp, fn))\n",
    "            continue\n",
    "            \n",
    "        dice = (2 * tp) / ((2 * tp) + fp + fn)\n",
    "        if np.isnan(dice):\n",
    "            #print('dice is nan {0}\\t(tp:{1})\\t tn:{2}\\t(fp:{3})\\t(fn:{4})'.format(i, tp, tn, fp, fn))\n",
    "            continue\n",
    "        \n",
    "        #print('='*50)\n",
    "        recall_list.append(recall)\n",
    "        specificity_list.append(specificity)\n",
    "        precision_list.append(precision)\n",
    "        acc_list.append(acc)\n",
    "        dice_list.append(dice)"
   ]
  },
  {
   "cell_type": "code",
   "execution_count": 21,
   "metadata": {
    "ExecuteTime": {
     "end_time": "2022-12-15T03:23:31.383366Z",
     "start_time": "2022-12-15T03:23:31.244086Z"
    }
   },
   "outputs": [
    {
     "name": "stdout",
     "output_type": "stream",
     "text": [
      "+---------------+---------------+-------------+------------+--------+\n",
      "|   Sensitivity |   Specificity |   Precision |   Accuracy |    DSC |\n",
      "+===============+===============+=============+============+========+\n",
      "|        0.7388 |        0.9909 |      0.7934 |       0.98 | 0.7317 |\n",
      "+---------------+---------------+-------------+------------+--------+\n",
      "\n"
     ]
    }
   ],
   "source": [
    "from tabulate import tabulate\n",
    "row_data1 = []\n",
    "row_item1 = []\n",
    "\n",
    "    \n",
    "row_item1.append('{0:.4f}'.format(np.mean(recall_list)))\n",
    "row_item1.append('{0:.4f}'.format(np.mean(specificity_list)))\n",
    "row_item1.append('{0:.4f}'.format(np.mean(precision_list)))\n",
    "row_item1.append('{0:.4f}'.format(np.mean(acc_list)))\n",
    "row_item1.append('{0:.4f}'.format(np.mean(dice_list)))\n",
    "row_data1.append(row_item1)\n",
    "\n",
    "head1 = [\"Sensitivity\", \"Specificity\", \"Precision\", \"Accuracy\", \"DSC\"]\n",
    "  \n",
    "# display table\n",
    "print(tabulate(row_data1, headers=head1, tablefmt=\"grid\"))\n",
    "#print(row_data1[n])\n",
    "print('')"
   ]
  },
  {
   "cell_type": "code",
   "execution_count": null,
   "metadata": {},
   "outputs": [],
   "source": [
    "for i in range(0, test_img.shape[0]):\n",
    "    \n",
    "    os.makedirs('./result_img/' + str(format(i, '03')), exist_ok=True)\n",
    "    for j in range(0, test_img.shape[1]):\n",
    "        \n",
    "        \n",
    "        fig, axs = plt.subplots(1,3,constrained_layout=True)\n",
    "        \n",
    "        #plt.figure(figsize=(10, 20))\n",
    "    \n",
    "        axs[0].imshow(test_img[i,j,:,:,0], cmap='gray')\n",
    "        axs[0].axis('off')\n",
    "        \n",
    "\n",
    "        axs[1].imshow(test_msk[i,j,:,:,0], cmap='gray')\n",
    "        axs[1].axis('off')\n",
    "    \n",
    "\n",
    "        axs[2].imshow(test_img[i,j,:,:,0], cmap='gray')\n",
    "        axs[2].imshow(test_pred[i,j,:,:,0] > 0.3, cmap='Reds', alpha=0.7)\n",
    "        axs[2].axis('off')\n",
    "    \n",
    "        #plt.show()\n",
    "        fig.savefig('./result_img/' + str(format(i, '03')) + '/'+ str(format(j, '03')) + '.png')"
   ]
  }
 ],
 "metadata": {
  "accelerator": "GPU",
  "colab": {
   "collapsed_sections": [],
   "name": "Heart Seg.ipynb",
   "provenance": []
  },
  "kernelspec": {
   "display_name": "Python 3",
   "language": "python",
   "name": "python3"
  },
  "language_info": {
   "codemirror_mode": {
    "name": "ipython",
    "version": 3
   },
   "file_extension": ".py",
   "mimetype": "text/x-python",
   "name": "python",
   "nbconvert_exporter": "python",
   "pygments_lexer": "ipython3",
   "version": "3.6.10"
  },
  "varInspector": {
   "cols": {
    "lenName": 16,
    "lenType": 16,
    "lenVar": 40
   },
   "kernels_config": {
    "python": {
     "delete_cmd_postfix": "",
     "delete_cmd_prefix": "del ",
     "library": "var_list.py",
     "varRefreshCmd": "print(var_dic_list())"
    },
    "r": {
     "delete_cmd_postfix": ") ",
     "delete_cmd_prefix": "rm(",
     "library": "var_list.r",
     "varRefreshCmd": "cat(var_dic_list()) "
    }
   },
   "position": {
    "height": "775.844px",
    "left": "1548px",
    "right": "20px",
    "top": "82px",
    "width": "350px"
   },
   "types_to_exclude": [
    "module",
    "function",
    "builtin_function_or_method",
    "instance",
    "_Feature"
   ],
   "window_display": true
  },
  "vscode": {
   "interpreter": {
    "hash": "696a59f4debf2abb2efcee762b07a190ad79c5058c7a029a4ab74de0b027f3da"
   }
  }
 },
 "nbformat": 4,
 "nbformat_minor": 4
}
